{
 "cells": [
  {
   "cell_type": "code",
   "execution_count": 8,
   "metadata": {},
   "outputs": [],
   "source": [
    "import warnings\n",
    "warnings.filterwarnings(\"ignore\", message=\".*The 'nopython' keyword.*\")"
   ]
  },
  {
   "cell_type": "code",
   "execution_count": 9,
   "metadata": {},
   "outputs": [
    {
     "data": {
      "text/plain": [
       "True"
      ]
     },
     "execution_count": 9,
     "metadata": {},
     "output_type": "execute_result"
    }
   ],
   "source": [
    "import torch\n",
    "torch.cuda.is_available()"
   ]
  },
  {
   "cell_type": "code",
   "execution_count": 10,
   "metadata": {},
   "outputs": [],
   "source": [
    "# Model\n",
    "from source.custom.models.CustomBERTopic import CustomBERTopic\n",
    "\n",
    "# Metrics\n",
    "from octis.evaluation_metrics.diversity_metrics import TopicDiversity\n",
    "from octis.evaluation_metrics.coherence_metrics import Coherence\n",
    "\n",
    "# Dataset\n",
    "from octis.dataset.dataset import Dataset\n",
    "\n",
    "# Useful libraries\n",
    "from sentence_transformers import SentenceTransformer\n",
    "import matplotlib.pyplot as plt\n",
    "import seaborn as sns\n",
    "import pandas as pd\n",
    "import numpy as np\n",
    "import torch\n"
   ]
  },
  {
   "cell_type": "code",
   "execution_count": 11,
   "metadata": {},
   "outputs": [],
   "source": [
    "datasets = [\n",
    "    ('datasets/pec_471_2005/', 'PEC 471/2005'),\n",
    "    ('datasets/pl_3723_2019/', 'PL 3723/2019')\n",
    "]\n"
   ]
  },
  {
   "cell_type": "code",
   "execution_count": 12,
   "metadata": {},
   "outputs": [],
   "source": [
    "sberts = [\n",
    "    ('sberts/ulysses_sbert_random_double_aka_650k_nheeng/', '650K'),\n",
    "    ('sberts/ulysses_sbert_map2doc_v1/', 'MAP2DOC'),\n",
    "    ('sberts/ulysses_sbert_triplets/', 'Triplets'),\n",
    "    ('sberts/ulysses_sbert_1mil_anama/', '1MIL'),\n",
    "    ('sberts/ulysses_sbert_lr56/', 'LR56'),\n",
    "    (None, 'LaBSE'),\n",
    "    (None, 'all-MiniLM-L6-v2')\n",
    "]\n"
   ]
  },
  {
   "cell_type": "code",
   "execution_count": 13,
   "metadata": {},
   "outputs": [],
   "source": [
    "def load_sbert(sbert):\n",
    "    \"\"\"\n",
    "    Load the SentenceBERT model\n",
    "    :param sbert_path: path to the SentenceBERT model\n",
    "    :return: SentenceBERT model\n",
    "    \"\"\"\n",
    "\n",
    "    if (sbert[1] == 'all-MiniLM-L6-v2'):\n",
    "        return None\n",
    "\n",
    "    if (sbert[1] == 'LaBSE'):\n",
    "        return SentenceTransformer('sentence-transformers/LaBSE', device='cpu')\n",
    "\n",
    "    else:\n",
    "        return SentenceTransformer(sbert[0], device='cpu')\n"
   ]
  },
  {
   "cell_type": "code",
   "execution_count": 14,
   "metadata": {},
   "outputs": [],
   "source": [
    "def eval_sbert(dataset_path, sbert):\n",
    "    \"\"\"\n",
    "    Evaluate a BERTopic model using SBERT embeddings given a dataset path and a SBERT model path.\n",
    "\n",
    "    Parameters\n",
    "    ----------\n",
    "    dataset_path : path to the dataset\n",
    "    sbert_path : path to the SBERT model\n",
    "\n",
    "    Returns\n",
    "    -------\n",
    "    coherence_results : coherence results\n",
    "    diversity_results : diversity results\n",
    "    \"\"\"\n",
    "\n",
    "    dataset = Dataset()\n",
    "    dataset.load_custom_dataset_from_folder(dataset_path)\n",
    "\n",
    "    bertopic = CustomBERTopic(\n",
    "        embedding_model=sbert,\n",
    "        n_gram_range=(1, 3)\n",
    "    )\n",
    "\n",
    "    results = bertopic.train_model(dataset)\n",
    "\n",
    "    coherence = Coherence(texts=dataset.get_corpus())\n",
    "    diversity = TopicDiversity()\n",
    "\n",
    "    coherence_results = coherence.score(results)\n",
    "    diversity_results = diversity.score(results)\n",
    "\n",
    "    return coherence_results, diversity_results\n"
   ]
  },
  {
   "cell_type": "code",
   "execution_count": 15,
   "metadata": {},
   "outputs": [],
   "source": [
    "results = pd.DataFrame(\n",
    "    columns=[\n",
    "        'Dataset',\n",
    "        'SBERT',\n",
    "        'Coherence',\n",
    "        'Diversity',\n",
    "        'Iter']\n",
    ")\n"
   ]
  },
  {
   "cell_type": "code",
   "execution_count": 16,
   "metadata": {},
   "outputs": [
    {
     "name": "stderr",
     "output_type": "stream",
     "text": [
      "/home/matheus/anaconda3/lib/python3.9/site-packages/numba/np/ufunc/parallel.py:371: NumbaWarning: \u001b[1mThe TBB threading layer requires TBB version 2021 update 6 or later i.e., TBB_INTERFACE_VERSION >= 12060. Found TBB_INTERFACE_VERSION = 12040. The TBB threading layer is disabled.\u001b[0m\n",
      "  warnings.warn(problem)\n"
     ]
    }
   ],
   "source": [
    "for dataset in datasets:\n",
    "    for sbert in sberts:\n",
    "        for it in range(10):\n",
    "            coherence, diversity = eval_sbert(dataset[0], load_sbert(sbert))\n",
    "            results = results.append(\n",
    "                {'Dataset': dataset[1],\n",
    "                 'SBERT': sbert[1],\n",
    "                 'Coherence': coherence,\n",
    "                 'Diversity': diversity,\n",
    "                 'Iter': it},\n",
    "                ignore_index=True)\n"
   ]
  },
  {
   "cell_type": "code",
   "execution_count": 17,
   "metadata": {},
   "outputs": [
    {
     "data": {
      "text/html": [
       "<div>\n",
       "<style scoped>\n",
       "    .dataframe tbody tr th:only-of-type {\n",
       "        vertical-align: middle;\n",
       "    }\n",
       "\n",
       "    .dataframe tbody tr th {\n",
       "        vertical-align: top;\n",
       "    }\n",
       "\n",
       "    .dataframe thead th {\n",
       "        text-align: right;\n",
       "    }\n",
       "</style>\n",
       "<table border=\"1\" class=\"dataframe\">\n",
       "  <thead>\n",
       "    <tr style=\"text-align: right;\">\n",
       "      <th></th>\n",
       "      <th>Dataset</th>\n",
       "      <th>SBERT</th>\n",
       "      <th>Coherence</th>\n",
       "      <th>Diversity</th>\n",
       "    </tr>\n",
       "  </thead>\n",
       "  <tbody>\n",
       "    <tr>\n",
       "      <th>0</th>\n",
       "      <td>PEC 471/2005</td>\n",
       "      <td>1MIL</td>\n",
       "      <td>-0.105497</td>\n",
       "      <td>0.733458</td>\n",
       "    </tr>\n",
       "    <tr>\n",
       "      <th>1</th>\n",
       "      <td>PEC 471/2005</td>\n",
       "      <td>650K</td>\n",
       "      <td>-0.047121</td>\n",
       "      <td>0.806083</td>\n",
       "    </tr>\n",
       "    <tr>\n",
       "      <th>2</th>\n",
       "      <td>PEC 471/2005</td>\n",
       "      <td>LR56</td>\n",
       "      <td>-0.060548</td>\n",
       "      <td>0.808750</td>\n",
       "    </tr>\n",
       "    <tr>\n",
       "      <th>3</th>\n",
       "      <td>PEC 471/2005</td>\n",
       "      <td>LaBSE</td>\n",
       "      <td>-0.049403</td>\n",
       "      <td>0.977500</td>\n",
       "    </tr>\n",
       "    <tr>\n",
       "      <th>4</th>\n",
       "      <td>PEC 471/2005</td>\n",
       "      <td>MAP2DOC</td>\n",
       "      <td>-0.139795</td>\n",
       "      <td>0.785644</td>\n",
       "    </tr>\n",
       "    <tr>\n",
       "      <th>5</th>\n",
       "      <td>PEC 471/2005</td>\n",
       "      <td>Triplets</td>\n",
       "      <td>-0.081848</td>\n",
       "      <td>0.788583</td>\n",
       "    </tr>\n",
       "    <tr>\n",
       "      <th>6</th>\n",
       "      <td>PEC 471/2005</td>\n",
       "      <td>all-MiniLM-L6-v2</td>\n",
       "      <td>-0.089311</td>\n",
       "      <td>0.660000</td>\n",
       "    </tr>\n",
       "    <tr>\n",
       "      <th>7</th>\n",
       "      <td>PL 3723/2019</td>\n",
       "      <td>1MIL</td>\n",
       "      <td>0.009687</td>\n",
       "      <td>0.832913</td>\n",
       "    </tr>\n",
       "    <tr>\n",
       "      <th>8</th>\n",
       "      <td>PL 3723/2019</td>\n",
       "      <td>650K</td>\n",
       "      <td>-0.007280</td>\n",
       "      <td>0.867756</td>\n",
       "    </tr>\n",
       "    <tr>\n",
       "      <th>9</th>\n",
       "      <td>PL 3723/2019</td>\n",
       "      <td>LR56</td>\n",
       "      <td>-0.058150</td>\n",
       "      <td>0.782990</td>\n",
       "    </tr>\n",
       "    <tr>\n",
       "      <th>10</th>\n",
       "      <td>PL 3723/2019</td>\n",
       "      <td>LaBSE</td>\n",
       "      <td>-0.026014</td>\n",
       "      <td>0.911725</td>\n",
       "    </tr>\n",
       "    <tr>\n",
       "      <th>11</th>\n",
       "      <td>PL 3723/2019</td>\n",
       "      <td>MAP2DOC</td>\n",
       "      <td>-0.013775</td>\n",
       "      <td>0.781556</td>\n",
       "    </tr>\n",
       "    <tr>\n",
       "      <th>12</th>\n",
       "      <td>PL 3723/2019</td>\n",
       "      <td>Triplets</td>\n",
       "      <td>-0.029028</td>\n",
       "      <td>0.864610</td>\n",
       "    </tr>\n",
       "    <tr>\n",
       "      <th>13</th>\n",
       "      <td>PL 3723/2019</td>\n",
       "      <td>all-MiniLM-L6-v2</td>\n",
       "      <td>-0.115124</td>\n",
       "      <td>0.639242</td>\n",
       "    </tr>\n",
       "  </tbody>\n",
       "</table>\n",
       "</div>"
      ],
      "text/plain": [
       "         Dataset             SBERT  Coherence  Diversity\n",
       "0   PEC 471/2005              1MIL  -0.105497   0.733458\n",
       "1   PEC 471/2005              650K  -0.047121   0.806083\n",
       "2   PEC 471/2005              LR56  -0.060548   0.808750\n",
       "3   PEC 471/2005             LaBSE  -0.049403   0.977500\n",
       "4   PEC 471/2005           MAP2DOC  -0.139795   0.785644\n",
       "5   PEC 471/2005          Triplets  -0.081848   0.788583\n",
       "6   PEC 471/2005  all-MiniLM-L6-v2  -0.089311   0.660000\n",
       "7   PL 3723/2019              1MIL   0.009687   0.832913\n",
       "8   PL 3723/2019              650K  -0.007280   0.867756\n",
       "9   PL 3723/2019              LR56  -0.058150   0.782990\n",
       "10  PL 3723/2019             LaBSE  -0.026014   0.911725\n",
       "11  PL 3723/2019           MAP2DOC  -0.013775   0.781556\n",
       "12  PL 3723/2019          Triplets  -0.029028   0.864610\n",
       "13  PL 3723/2019  all-MiniLM-L6-v2  -0.115124   0.639242"
      ]
     },
     "execution_count": 17,
     "metadata": {},
     "output_type": "execute_result"
    }
   ],
   "source": [
    "mean_results = pd.DataFrame(results.groupby(['Dataset', 'SBERT']).mean()).reset_index()\n",
    "mean_results"
   ]
  },
  {
   "cell_type": "code",
   "execution_count": 18,
   "metadata": {},
   "outputs": [],
   "source": [
    "sns.set(style=\"darkgrid\")\n",
    "sns.set_context(\"paper\")\n",
    "plt.rcParams[\"font.size\"] = 8\n"
   ]
  },
  {
   "cell_type": "code",
   "execution_count": 19,
   "metadata": {},
   "outputs": [
    {
     "data": {
      "image/png": "[encoded data removed]",
      "text/plain": [
       "<Figure size 432x288 with 1 Axes>"
      ]
     },
     "metadata": {},
     "output_type": "display_data"
    }
   ],
   "source": [
    "plt.title(\"Diversity\")\n",
    "ax = sns.barplot(x=mean_results['Diversity'], y=mean_results['SBERT'], hue=mean_results['Dataset'], orient='h')\n",
    "plt.savefig('plots/diversity.svg', format='svg', dpi=1200, bbox_inches='tight')"
   ]
  },
  {
   "cell_type": "code",
   "execution_count": 20,
   "metadata": {},
   "outputs": [
    {
     "data": {
      "image/png": "[encoded data removed]",
      "text/plain": [
       "<Figure size 432x288 with 1 Axes>"
      ]
     },
     "metadata": {},
     "output_type": "display_data"
    }
   ],
   "source": [
    "plt.title(\"Coherence\")\n",
    "sns.barplot(x=(mean_results['Coherence'] + 1) / 2, y=mean_results['SBERT'], hue=mean_results['Dataset'], orient='h')\n",
    "plt.savefig('plots/coherence.svg', format='svg', dpi=1200, bbox_inches='tight')"
   ]
  }
 ],
 "metadata": {
  "kernelspec": {
   "display_name": "base",
   "language": "python",
   "name": "python3"
  },
  "language_info": {
   "codemirror_mode": {
    "name": "ipython",
    "version": 3
   },
   "file_extension": ".py",
   "mimetype": "text/x-python",
   "name": "python",
   "nbconvert_exporter": "python",
   "pygments_lexer": "ipython3",
   "version": "3.9.7"
  },
  "orig_nbformat": 4
 },
 "nbformat": 4,
 "nbformat_minor": 2
}
